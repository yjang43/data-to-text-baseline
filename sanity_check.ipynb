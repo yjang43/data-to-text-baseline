{
 "cells": [
  {
   "cell_type": "code",
   "execution_count": 1,
   "metadata": {},
   "outputs": [],
   "source": [
    "# dialog_act.json only has dialog act information of the system\n",
    "# dialog_act.json does not contain system utterance\n",
    "# check details form README file under system_act section\n",
    "# data.json contains user/system conversation\n",
    "\n",
    "\n",
    "# Sanity check starts"
   ]
  },
  {
   "cell_type": "code",
   "execution_count": 20,
   "metadata": {},
   "outputs": [
    {
     "name": "stdout",
     "output_type": "stream",
     "text": [
      "dialog_ids - act_ids: 0\tf[]\n",
      "act_ids - dialog_ids: 0\tf[]\n",
      "Same dialogs are inside each file.\n"
     ]
    }
   ],
   "source": [
    "# 1. dialogues on dialogue_acts.json and data.json are one-to-one mapping\n",
    "\n",
    "import json\n",
    "import os\n",
    "\n",
    "\n",
    "with open('data/MULTIWOZ2 2/dialogue_acts.json', 'r') as f:\n",
    "    acts = json.load(f)\n",
    "\n",
    "with open('data/MULTIWOZ2 2/data.json', 'r') as f:\n",
    "    dialogs = json.load(f)\n",
    "\n",
    "\n",
    "dialog_ids = set([os.path.splitext(k)[0] for k in dialogs.keys()])\n",
    "act_ids = set(acts.keys())\n",
    "\n",
    "res = dialog_ids.difference(act_ids)\n",
    "print(f\"dialog_ids - act_ids: {len(res)}\\tf{[r for r in list(res)[:5]]}\")\n",
    "\n",
    "res = act_ids.difference(dialog_ids)\n",
    "print(f\"act_ids - dialog_ids: {len(res)}\\tf{[r for r in list(res)[:5]]}\")\n",
    "\n",
    "assert dialog_ids == act_ids\n",
    "print(\"Same dialogs are inside each file.\")\n",
    "\n"
   ]
  },
  {
   "cell_type": "code",
   "execution_count": 78,
   "metadata": {},
   "outputs": [
    {
     "name": "stdout",
     "output_type": "stream",
     "text": [
      "Dialogue ID: SNG0957\n"
     ]
    },
    {
     "name": "stderr",
     "output_type": "stream",
     "text": [
      "C:\\Users\\ys43.jang\\AppData\\Local\\Temp\\ipykernel_29252\\250423323.py:5: DeprecationWarning: Sampling from a set deprecated\n",
      "since Python 3.9 and will be removed in a subsequent version.\n",
      "  rand_id = random.sample(dialog_ids, 1)[0]\n"
     ]
    }
   ],
   "source": [
    "# 2. check structure of data for one dialogue and see how to pair them\n",
    "\n",
    "import random\n",
    "\n",
    "rand_id = random.sample(dialog_ids, 1)[0]\n",
    "print(f\"Dialogue ID: {rand_id}\")\n",
    "\n",
    "rand_id = \"PMUL2583\"\n",
    "\n",
    "dialog = dialogs[rand_id + '.json']\n",
    "act = acts[rand_id]\n",
    "\n",
    "with open('./tmp_dialog.json', 'w') as f:\n",
    "    json.dump(dialog, f, indent=2)\n",
    "\n",
    "with open('./tmp_act.json', 'w') as f:\n",
    "    json.dump(act, f, indent=2)"
   ]
  },
  {
   "cell_type": "code",
   "execution_count": 69,
   "metadata": {},
   "outputs": [
    {
     "name": "stdout",
     "output_type": "stream",
     "text": [
      "['1', '2', '3', '4', '5', '6', '7', '8', '9', '10', '11', '12']\n",
      "22\n",
      "PMUL4885\n",
      "PMUL2583\n",
      "PMUL2828\n",
      "PMUL2245\n",
      "PMUL0460\n",
      "PMUL0803\n",
      "PMUL4375\n",
      "PMUL0382\n",
      "PMUL3896\n",
      "PMUL1045\n",
      "PMUL3872\n",
      "PMUL2659\n",
      "PMUL4395\n",
      "PMUL4707\n",
      "PMUL0189\n",
      "PMUL3627\n",
      "PMUL1807\n",
      "PMUL4776\n",
      "PMUL3863\n",
      "PMUL1131\n",
      "PMUL0237\n",
      "PMUL3045\n",
      "PMUL1828\n",
      "PMUL0453\n",
      "PMUL0675\n",
      "PMUL3210\n",
      "PMUL0054\n",
      "PMUL0829\n",
      "PMUL0181\n",
      "PMUL0448\n",
      "PMUL4483\n",
      "PMUL3856\n",
      "PMUL4859\n",
      "PMUL4579\n"
     ]
    }
   ],
   "source": [
    "# closer look at act file\n",
    "\n",
    "\n",
    "print(sorted(act.keys(), key=lambda x: int(x)))\n",
    "print(len(dialog['log']))\n",
    "\n",
    "# check if there are acts only for system\n",
    "for id, act in acts.items():\n",
    "    dialog = dialogs[id + '.json']\n",
    "    if(len(act) * 2 != len(dialog['log'])):\n",
    "        print(id)\n",
    "\n",
    "    # assert len(act) * 2 == len(dialog['log']), id\n"
   ]
  },
  {
   "cell_type": "code",
   "execution_count": 107,
   "metadata": {},
   "outputs": [],
   "source": [
    "iter_idx = iter(range(1, len(act) + 1))"
   ]
  },
  {
   "cell_type": "code",
   "execution_count": 119,
   "metadata": {},
   "outputs": [
    {
     "name": "stdout",
     "output_type": "stream",
     "text": [
      "12\n",
      "No Annotation\n"
     ]
    },
    {
     "ename": "IndexError",
     "evalue": "list index out of range",
     "output_type": "error",
     "traceback": [
      "\u001b[1;31m---------------------------------------------------------------------------\u001b[0m",
      "\u001b[1;31mIndexError\u001b[0m                                Traceback (most recent call last)",
      "Cell \u001b[1;32mIn [119], line 4\u001b[0m\n\u001b[0;32m      2\u001b[0m \u001b[39mprint\u001b[39m(idx)\n\u001b[0;32m      3\u001b[0m \u001b[39mprint\u001b[39m(act[\u001b[39mstr\u001b[39m(idx)])\n\u001b[1;32m----> 4\u001b[0m \u001b[39mprint\u001b[39m(dialog[\u001b[39m'\u001b[39;49m\u001b[39mlog\u001b[39;49m\u001b[39m'\u001b[39;49m][idx \u001b[39m*\u001b[39;49m \u001b[39m2\u001b[39;49m \u001b[39m-\u001b[39;49m \u001b[39m1\u001b[39;49m][\u001b[39m'\u001b[39m\u001b[39mtext\u001b[39m\u001b[39m'\u001b[39m])\n",
      "\u001b[1;31mIndexError\u001b[0m: list index out of range"
     ]
    }
   ],
   "source": [
    "\n",
    "idx = next(iter_idx)\n",
    "print(idx)\n",
    "print(act[str(idx)])\n",
    "print(dialog['log'][idx * 2 - 1]['text'])"
   ]
  },
  {
   "cell_type": "code",
   "execution_count": null,
   "metadata": {},
   "outputs": [],
   "source": []
  }
 ],
 "metadata": {
  "kernelspec": {
   "display_name": "Python 3.9.15 ('df')",
   "language": "python",
   "name": "python3"
  },
  "language_info": {
   "codemirror_mode": {
    "name": "ipython",
    "version": 3
   },
   "file_extension": ".py",
   "mimetype": "text/x-python",
   "name": "python",
   "nbconvert_exporter": "python",
   "pygments_lexer": "ipython3",
   "version": "3.9.15"
  },
  "orig_nbformat": 4,
  "vscode": {
   "interpreter": {
    "hash": "f8c497cb8758eb8760ab8ac375e6dad456880cd1aac14f8622e8d1b5ba59956d"
   }
  }
 },
 "nbformat": 4,
 "nbformat_minor": 2
}
